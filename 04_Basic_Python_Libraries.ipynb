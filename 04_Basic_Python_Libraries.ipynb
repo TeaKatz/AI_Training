{
 "cells": [
  {
   "cell_type": "markdown",
   "metadata": {},
   "source": [
    "### Basic Python Libraries\n",
    "<img src=\"pics/Libraries_01.jpg\" width=\"800\" height=\"400\">"
   ]
  },
  {
   "cell_type": "markdown",
   "metadata": {},
   "source": [
    "### Numpy\n",
    "NumPy is a library for dealing with matrix operation in Python.  \n",
    "**Declare variable**  \n",
    "- `array(x, dtype=None)`: Convert Python's list to ndarray\n",
    "https://docs.scipy.org/doc/numpy/reference/generated/numpy.array.html\n",
    "- `arange(start, stop, step, dtype=None)`: Like ```range()``` but is ndarray\n",
    "https://docs.scipy.org/doc/numpy/reference/generated/numpy.arange.html\n",
    "- `ones(shape, dtype=None)`: Create ndarray of 1 of the given shape\n",
    "https://docs.scipy.org/doc/numpy/reference/generated/numpy.ones.html\n",
    "- `ones_like(x, dtype=None)`: Create ndarray of 1 with the same shape as the given input array\n",
    "https://docs.scipy.org/doc/numpy/reference/generated/numpy.ones_like.html\n",
    "- `zeros(shape, dtype=None)`: Create ndarray of 0 of the given shape\n",
    "https://docs.scipy.org/doc/numpy/reference/generated/numpy.zeros.html\n",
    "- `zeros_like(x, dtype=None)`: Create ndarray of 0 with the same shape as the given input array\n",
    "https://docs.scipy.org/doc/numpy/reference/generated/numpy.zeros_like.html\n",
    "- `empty(shape, dtype=None)`: Create ndarray of random values of the given shape\n",
    "https://docs.scipy.org/doc/numpy/reference/generated/numpy.empty.html\n",
    "\n",
    "**Random**\n",
    "- `random.normal(loc=0.0, scale=1.0, size=None)`: Create ndarray of float which random from normal distribution \n",
    "https://docs.scipy.org/doc/numpy-1.15.0/reference/generated/numpy.random.normal.html\n",
    "<img src=\"pics/normal_distribution.svg\" width=\"500\" height=\"250\">\n",
    "- `random.uniform(low=0.0, high=1.0, size=None)`: Create ndarray of float which random from uniform distribution\n",
    "https://docs.scipy.org/doc/numpy-1.14.0/reference/generated/numpy.random.uniform.html\n",
    "- `random.randint(low, high=None, size=None, dtype=None)`: Create ndarray of integer from uniform distribution\n",
    "https://docs.scipy.org/doc/numpy-1.15.1/reference/generated/numpy.random.randint.html\n",
    "- `random.choice(x, size=None, replace=True, p=None)`: Sampling values from a given array\n",
    "https://docs.scipy.org/doc/numpy-1.15.0/reference/generated/numpy.random.choice.html\n",
    "\n",
    "**Casting type**\n",
    "- `ndarray.astype(dtype)`\n",
    "https://docs.scipy.org/doc/numpy/reference/generated/numpy.ndarray.astype.html\n",
    "\n",
    "**NumPy types**\n",
    "- `np.int8`\n",
    "- `np.int16`\n",
    "- `np.int32`\n",
    "- `np.int64`\n",
    "- `np.uint8`\n",
    "- `np.uint16`\n",
    "- `np.uint32`\n",
    "- `np.uint64`\n",
    "- `np.float32`\n",
    "- `np.float64`\n",
    "- `np.string`\n",
    "\n",
    "**Slicing array**  \n",
    "slicing array in NumPy is exactly like slicing in Python, except that in Python we can only slice array by range but NumPy allow we to slice array by list of uncontinuous index.\n",
    "\n",
    "**Matrix operations**\n",
    "- `matmul(x1, x2)`: Matrix product of two arrays  \n",
    "https://docs.scipy.org/doc/numpy/reference/generated/numpy.matmul.html\n",
    "<img src=\"pics/dot_product.png\">\n",
    "- `multiply(x1, x2)`: Multiply arguments element-wise  \n",
    "https://docs.scipy.org/doc/numpy/reference/generated/numpy.multiply.html\n",
    "- `divide(x1, x2)`: Division arguments element-wise  \n",
    "https://docs.scipy.org/doc/numpy/reference/generated/numpy.divide.html\n",
    "- `transpose(x, axes=None)`: Permute the dimensions of an array  \n",
    "https://docs.scipy.org/doc/numpy/reference/generated/numpy.transpose.html\n",
    "<img src=\"pics/transpose.png\" width=\"400\" height=\"200\">\n",
    "\n",
    "**Reshape**\n",
    "- `reshape(x, newshape)`: Gives a new shape to an array without changing its data  \n",
    "https://docs.scipy.org/doc/numpy/reference/generated/numpy.reshape.html\n",
    "- `squeeze(x, axis=None)`: Remove single-dimensional entries from the shape of an array  \n",
    "https://docs.scipy.org/doc/numpy/reference/generated/numpy.squeeze.html"
   ]
  },
  {
   "cell_type": "code",
   "execution_count": null,
   "metadata": {},
   "outputs": [],
   "source": [
    "import numpy as np"
   ]
  },
  {
   "cell_type": "code",
   "execution_count": null,
   "metadata": {},
   "outputs": [],
   "source": [
    "# np.array(x, dtype=None)\n",
    "x = [1, 2, 3, 4]\n",
    "print(\"x: {} {}\".format(x, type(x)))\n",
    "x = np.array(x)\n",
    "print(\"x: {} {}\".format(x, type(x)))"
   ]
  },
  {
   "cell_type": "code",
   "execution_count": null,
   "metadata": {},
   "outputs": [],
   "source": [
    "# np.arange(start, stop, step, dtype=None)\n",
    "x = np.arange(10)\n",
    "print(\"x: {}\".format(x))\n",
    "x = np.arange(2, 10, 2)\n",
    "print(\"x: {}\".format(x))"
   ]
  },
  {
   "cell_type": "code",
   "execution_count": null,
   "metadata": {},
   "outputs": [],
   "source": [
    "# np.ones(shape, dtype=None)\n",
    "x = np.ones([6, 3])\n",
    "print(x)"
   ]
  },
  {
   "cell_type": "code",
   "execution_count": null,
   "metadata": {},
   "outputs": [],
   "source": [
    "# np.ones_like(x, dtype=None)\n",
    "x = np.random.randint(10, size=(5, 6))\n",
    "print(\"x: {}\".format(x.shape))\n",
    "print(x)\n",
    "y = np.ones_like(x)\n",
    "print(\"y: {}\".format(y.shape))\n",
    "print(y)"
   ]
  },
  {
   "cell_type": "code",
   "execution_count": null,
   "metadata": {},
   "outputs": [],
   "source": [
    "# np.zeros(shape, dtype=None)\n",
    "x = np.zeros([6, 3])\n",
    "print(x)"
   ]
  },
  {
   "cell_type": "code",
   "execution_count": null,
   "metadata": {},
   "outputs": [],
   "source": [
    "# np.zeros_like(x, dtype=None)\n",
    "x = np.random.randint(10, size=(5, 6))\n",
    "print(\"x: {}\".format(x.shape))\n",
    "print(x)\n",
    "y = np.zeros_like(x)\n",
    "print(\"y: {}\".format(y.shape))\n",
    "print(y)"
   ]
  },
  {
   "cell_type": "code",
   "execution_count": null,
   "metadata": {},
   "outputs": [],
   "source": [
    "# np.empty(shape, dtype=None)\n",
    "x = np.empty([6, 3])\n",
    "print(x)"
   ]
  },
  {
   "cell_type": "code",
   "execution_count": null,
   "metadata": {},
   "outputs": [],
   "source": [
    "# random.normal(loc=0.0, scale=1.0, size=None)\n",
    "x = np.random.normal(size=[1, 2, 3, 4])\n",
    "print(\"shape: {}\".format(x.shape))\n",
    "print(x)"
   ]
  },
  {
   "cell_type": "code",
   "execution_count": null,
   "metadata": {},
   "outputs": [],
   "source": [
    "# random.uniform(low=0.0, high=1.0, size=None)\n",
    "x = np.random.uniform(size=[1, 2, 3, 4])\n",
    "print(\"shape: {}\".format(x.shape))\n",
    "print(x)"
   ]
  },
  {
   "cell_type": "code",
   "execution_count": null,
   "metadata": {},
   "outputs": [],
   "source": [
    "# random.randint(low, high=None, size=None, dtype=None)\n",
    "x = np.random.randint(5, size=[1, 2, 3, 4])\n",
    "print(\"shape: {}\".format(x.shape))\n",
    "print(x)"
   ]
  },
  {
   "cell_type": "code",
   "execution_count": null,
   "metadata": {},
   "outputs": [],
   "source": [
    "# random.choice(x, size=None, replace=True, p=None)\n",
    "x = np.arange(10)\n",
    "print(\"x:\\n{}\".format(x))\n",
    "y = np.random.choice(x, size=20)\n",
    "print(\"y:\\n{}\".format(y))\n",
    "z = np.random.choice(x, size=20, p=[0.02, 0.02, 0.02, 0.02, 0.02, 0.02, 0.02, 0.02, 0.02, 0.82])\n",
    "print(\"z:\\n{}\".format(z))"
   ]
  },
  {
   "cell_type": "code",
   "execution_count": null,
   "metadata": {},
   "outputs": [],
   "source": [
    "# ndarray.astype(dtype)\n",
    "x = np.arange(10, dtype=np.float32)\n",
    "print(\"x:\\n{}\".format(x))\n",
    "y = x.astype(np.int32)\n",
    "print(\"y:\\n{}\".format(y))"
   ]
  },
  {
   "cell_type": "code",
   "execution_count": null,
   "metadata": {},
   "outputs": [],
   "source": [
    "# Slicing array\n",
    "x = np.arange(10)\n",
    "print(\"x:\\n{}\".format(x))\n",
    "y = x[[2, 5, 7, 9]]\n",
    "print(\"y:\\n{}\".format(y))\n",
    "z = x[2:10]\n",
    "print(\"z:\\n{}\".format(z))"
   ]
  },
  {
   "cell_type": "code",
   "execution_count": null,
   "metadata": {},
   "outputs": [],
   "source": [
    "# matmul(x1, x2)\n",
    "x1 = np.random.randint(5, size=[3, 5])\n",
    "print(\"x1: {}\\n{}\".format(x1.shape, x1))\n",
    "x2 = np.random.randint(5, size=[5, 4])\n",
    "print(\"x2: {}\\n{}\".format(x2.shape, x2))\n",
    "y = np.matmul(x1, x2)\n",
    "print(\"y: {}\".format(y.shape))\n",
    "print(y)"
   ]
  },
  {
   "cell_type": "code",
   "execution_count": null,
   "metadata": {},
   "outputs": [],
   "source": [
    "# multiply(x1, x2)\n",
    "x1 = np.random.randint(5, size=[3, 5])\n",
    "print(\"x1: {}\\n{}\".format(x1.shape, x1))\n",
    "x2 = np.random.randint(5, size=[3, 5])\n",
    "print(\"x2: {}\\n{}\".format(x2.shape, x2))\n",
    "x3 = np.random.randint(5, size=[3, 1])\n",
    "print(\"x3: {}\\n{}\".format(x3.shape, x3))\n",
    "y1 = np.multiply(x1, x2)\n",
    "print(\"y1: {}\".format(y1.shape))\n",
    "print(y1)\n",
    "y2 = x1 * x3\n",
    "print(\"y2: {}\".format(y2.shape))\n",
    "print(y2)"
   ]
  },
  {
   "cell_type": "code",
   "execution_count": null,
   "metadata": {},
   "outputs": [],
   "source": [
    "# divide(x1, x2)\n",
    "x1 = np.random.randint(1, 5, size=[3, 5])\n",
    "print(\"x1: {}\\n{}\".format(x1.shape, x1))\n",
    "x2 = np.random.randint(1, 5, size=[3, 5])\n",
    "print(\"x2: {}\\n{}\".format(x2.shape, x2))\n",
    "x3 = np.random.randint(1, 5, size=[3, 1])\n",
    "print(\"x3: {}\\n{}\".format(x3.shape, x3))\n",
    "y1 = np.divide(x1, x2)\n",
    "print(\"y1: {}\".format(y1.shape))\n",
    "print(y1)\n",
    "y2 = x1 / x3\n",
    "print(\"y2: {}\".format(y2.shape))\n",
    "print(y2)"
   ]
  },
  {
   "cell_type": "code",
   "execution_count": null,
   "metadata": {},
   "outputs": [],
   "source": [
    "# transpose(x, axes=None)\n",
    "x = np.random.randint(5, size=[1, 2, 3, 4])\n",
    "print(\"x: {}\".format(x.shape))\n",
    "y1 = np.transpose(x)\n",
    "print(\"y1: {}\".format(y1.shape))\n",
    "y2 = x.T\n",
    "print(\"y2: {}\".format(y2.shape))\n",
    "y3 = np.transpose(x, axes=[0, 1, 3, 2])\n",
    "print(\"y3: {}\".format(y3.shape))"
   ]
  },
  {
   "cell_type": "code",
   "execution_count": null,
   "metadata": {},
   "outputs": [],
   "source": [
    "# reshape(x, newshape)\n",
    "x = np.random.randint(5, size=[1, 2, 3, 4])\n",
    "print(\"x: {}\".format(x.shape))\n",
    "y1 = x.reshape([1, 2, 12])\n",
    "print(\"y1: {}\".format(y1.shape))\n",
    "y2 = np.reshape(x, [1, 2, 12])\n",
    "print(\"y2: {}\".format(y2.shape))"
   ]
  },
  {
   "cell_type": "code",
   "execution_count": null,
   "metadata": {},
   "outputs": [],
   "source": [
    "# squeeze(x, axis=None)\n",
    "x = np.random.randint(5, size=[1, 2, 3, 1])\n",
    "print(\"x: {}\".format(x.shape))\n",
    "y1 = x.squeeze()\n",
    "print(\"y1: {}\".format(y1.shape))\n",
    "y2 = np.squeeze(x)\n",
    "print(\"y2: {}\".format(y2.shape))\n",
    "y3 = np.squeeze(x, axis=0)\n",
    "print(\"y3: {}\".format(y3.shape))"
   ]
  },
  {
   "cell_type": "markdown",
   "metadata": {},
   "source": [
    "### Matplotlib\n",
    "Matplotlib is a library for plotting various types of chart in Python for visualization, example types of chart are.  \n",
    "- Line chart: `plot(x, y, format=None)`  \n",
    "https://matplotlib.org/3.1.3/api/_as_gen/matplotlib.pyplot.plot.html#matplotlib.pyplot.plot\n",
    "- Image: `imshow(x)`  \n",
    "https://matplotlib.org/3.1.3/api/_as_gen/matplotlib.pyplot.imshow.html#matplotlib.pyplot.imshow\n",
    "- Histogram: `hist(x, bins=None)`  \n",
    "https://matplotlib.org/3.1.3/api/_as_gen/matplotlib.pyplot.hist.html#matplotlib.pyplot.hist\n",
    "- Bar chart: `bar(x, height)`  \n",
    "https://matplotlib.org/3.1.3/api/_as_gen/matplotlib.pyplot.bar.html#matplotlib.pyplot.bar\n",
    "- Pie chart: `pie(x, explode=None, labels=None)`  \n",
    "https://matplotlib.org/3.1.3/api/_as_gen/matplotlib.pyplot.pie.html#matplotlib.pyplot.pie\n",
    "- Scatter chart: `scatter(x, y, s=None, c=None, marker=None)`  \n",
    "https://matplotlib.org/3.1.3/api/_as_gen/matplotlib.pyplot.scatter.html#matplotlib.pyplot.scatter"
   ]
  },
  {
   "cell_type": "code",
   "execution_count": null,
   "metadata": {},
   "outputs": [],
   "source": [
    "import matplotlib.pyplot as plt"
   ]
  },
  {
   "cell_type": "code",
   "execution_count": null,
   "metadata": {},
   "outputs": [],
   "source": [
    "# Line chart\n",
    "x = list(range(10))\n",
    "y1 = [2 * _x + 3 for _x in x]\n",
    "y2 = [-2 * _x + 15 for _x in x]\n",
    "\n",
    "plt.figure(figsize=(14, 5))             # Define figure size\n",
    "\n",
    "plt.subplot(1, 2, 1)                    # Define next plot is a first chart\n",
    "plt.plot(x, y1)                         # Plot first chart\n",
    "\n",
    "plt.subplot(1, 2, 2)                    # Define next plot is a second chart\n",
    "plt.plot(x, y1, \"g--\", x, y2, \"r--\")    # Plot second chart\n",
    "plt.title(\"Line plot2\")                 # Defind title for second charts\n",
    "plt.legend([\"y1\", \"y2\"])                # Defind legend for second chart\n",
    "plt.xlabel(\"X\")                         # Defind x-axis label for second chart\n",
    "plt.ylabel(\"Y\")                         # Defind y-axis label for second chart\n",
    "\n",
    "plt.show()                              # Show plotting"
   ]
  },
  {
   "cell_type": "code",
   "execution_count": null,
   "metadata": {},
   "outputs": [],
   "source": [
    "# Image\n",
    "img = plt.imread(\"./pics/Python_Image_02.jpg\")    # Read image\n",
    "\n",
    "plt.figure(figsize=(14, 5))\n",
    "plt.imshow(img)                                   # Plot the image\n",
    "plt.show()"
   ]
  },
  {
   "cell_type": "code",
   "execution_count": null,
   "metadata": {},
   "outputs": [],
   "source": [
    "# Histogram\n",
    "np.random.seed(0)\n",
    "x1 = np.random.normal(size=(10000, ))    # Random 10000 numbers with normal distribution\n",
    "x2 = np.random.uniform(size=(10000, ))   # Random 10000 numbers with uniform distribution\n",
    "\n",
    "plt.figure(figsize=(14, 5))\n",
    "\n",
    "plt.subplot(1, 2, 1)\n",
    "plt.hist(x1, bins=50)                    # Plot histogram\n",
    "plt.title(\"Random with normal distribution\")\n",
    "\n",
    "plt.subplot(1, 2, 2)\n",
    "plt.hist(x2, bins=50)                    # Plot histogram\n",
    "plt.title(\"Random with uniform distribution\")\n",
    "\n",
    "plt.show()"
   ]
  },
  {
   "cell_type": "code",
   "execution_count": null,
   "metadata": {},
   "outputs": [],
   "source": [
    "# Bar chart\n",
    "np.random.seed(0)\n",
    "x = list(range(10))\n",
    "height = np.random.randint(100, size=len(x))\n",
    "\n",
    "print(\"height: {}\".format(height))\n",
    "plt.figure(figsize=(7, 5))\n",
    "plt.bar(x, height)                              # Plot bar chart\n",
    "plt.show()"
   ]
  },
  {
   "cell_type": "code",
   "execution_count": null,
   "metadata": {},
   "outputs": [],
   "source": [
    "# Bar chart\n",
    "np.random.seed(0)\n",
    "x = np.random.randint(50, 100, size=4)\n",
    "labels = [\"Frogs\", \"Hogs\", \"Dogs\", \"Logs\"]\n",
    "explode = [0.0, 0.1, 0.0, 0.0]\n",
    "\n",
    "print(\"labels: {}\".format(labels))\n",
    "print(\"x: {}\".format(x))\n",
    "plt.figure(figsize=(7, 5))\n",
    "plt.pie(x, explode, labels, autopct='%.1f%%', shadow=True)    # Plot pie chart\n",
    "plt.show()"
   ]
  },
  {
   "cell_type": "code",
   "execution_count": null,
   "metadata": {},
   "outputs": [],
   "source": [
    "# Scatter chart\n",
    "np.random.seed(0)\n",
    "x = np.random.rand(100)\n",
    "y = np.random.rand(100)\n",
    "c = np.random.rand(100)\n",
    "s = np.random.rand(100) * 90\n",
    "\n",
    "plt.figure(figsize=(7, 5))\n",
    "plt.scatter(x, y, s=s, c=c, marker='^')    # Plot scatter chart\n",
    "plt.show()"
   ]
  },
  {
   "cell_type": "markdown",
   "metadata": {},
   "source": [
    "### Pandas"
   ]
  },
  {
   "cell_type": "code",
   "execution_count": null,
   "metadata": {},
   "outputs": [],
   "source": []
  }
 ],
 "metadata": {
  "kernelspec": {
   "display_name": "Python 3",
   "language": "python",
   "name": "python3"
  },
  "language_info": {
   "codemirror_mode": {
    "name": "ipython",
    "version": 3
   },
   "file_extension": ".py",
   "mimetype": "text/x-python",
   "name": "python",
   "nbconvert_exporter": "python",
   "pygments_lexer": "ipython3",
   "version": "3.7.4"
  }
 },
 "nbformat": 4,
 "nbformat_minor": 4
}
