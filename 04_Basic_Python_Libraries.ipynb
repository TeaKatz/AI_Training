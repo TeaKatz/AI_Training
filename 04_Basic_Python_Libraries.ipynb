{
 "cells": [
  {
   "cell_type": "markdown",
   "metadata": {},
   "source": [
    "### Basic Python Libraries\n",
    "<img src=\"pics/Libraries_01.jpg\" width=\"800\" height=\"400\">"
   ]
  },
  {
   "cell_type": "markdown",
   "metadata": {},
   "source": [
    "### Numpy\n",
    "NumPy is a library for dealing with matrix operation in Python.  \n",
    "**Declare variable**  \n",
    "- `array(x, dtype=None)`: Convert Python's list to ndarray.  \n",
    "https://docs.scipy.org/doc/numpy/reference/generated/numpy.array.html\n",
    "- `arange(start, stop, step, dtype=None)`: Like ```range()``` but is ndarray.  \n",
    "https://docs.scipy.org/doc/numpy/reference/generated/numpy.arange.html\n",
    "- `ones(shape, dtype=None)`: Create ndarray of 1 of the given shape.  \n",
    "https://docs.scipy.org/doc/numpy/reference/generated/numpy.ones.html\n",
    "- `ones_like(x, dtype=None)`: Create ndarray of 1 with the same shape as the given input array.  \n",
    "https://docs.scipy.org/doc/numpy/reference/generated/numpy.ones_like.html\n",
    "- `zeros(shape, dtype=None)`: Create ndarray of 0 of the given shape.  \n",
    "https://docs.scipy.org/doc/numpy/reference/generated/numpy.zeros.html\n",
    "- `zeros_like(x, dtype=None)`: Create ndarray of 0 with the same shape as the given input array.  \n",
    "https://docs.scipy.org/doc/numpy/reference/generated/numpy.zeros_like.html\n",
    "- `empty(shape, dtype=None)`: Create ndarray of random values of the given shape.  \n",
    "https://docs.scipy.org/doc/numpy/reference/generated/numpy.empty.html\n",
    "\n",
    "**Random**\n",
    "- `random.normal(loc=0.0, scale=1.0, size=None)`: Create ndarray of float which random from normal distribution.  \n",
    "https://docs.scipy.org/doc/numpy-1.15.0/reference/generated/numpy.random.normal.html\n",
    "\n",
    "<img src=\"pics/normal_distribution.svg\" width=\"500\" height=\"250\" style=\"float: center\">\n",
    "\n",
    "- `random.uniform(low=0.0, high=1.0, size=None)`: Create ndarray of float which random from uniform distribution.  \n",
    "https://docs.scipy.org/doc/numpy-1.14.0/reference/generated/numpy.random.uniform.html\n",
    "- `random.randint(low, high=None, size=None, dtype=None)`: Create ndarray of integer from uniform distribution.  \n",
    "https://docs.scipy.org/doc/numpy-1.15.1/reference/generated/numpy.random.randint.html\n",
    "- `random.choice(x, size=None, replace=True, p=None)`: Sampling values from a given array.  \n",
    "https://docs.scipy.org/doc/numpy-1.15.0/reference/generated/numpy.random.choice.html\n",
    "- `random.shuffle(x)`: Randomly shuffle input ndarray.  \n",
    "https://docs.scipy.org/doc/numpy-1.15.0/reference/generated/numpy.random.shuffle.html\n",
    "\n",
    "**Casting type**\n",
    "- `ndarray.astype(dtype)`  \n",
    "https://docs.scipy.org/doc/numpy/reference/generated/numpy.ndarray.astype.html\n",
    "\n",
    "**NumPy types**\n",
    "- `np.int8`\n",
    "- `np.int16`\n",
    "- `np.int32`\n",
    "- `np.int64`\n",
    "- `np.uint8`\n",
    "- `np.uint16`\n",
    "- `np.uint32`\n",
    "- `np.uint64`\n",
    "- `np.float32`\n",
    "- `np.float64`\n",
    "- `np.string`\n",
    "\n",
    "**Slicing array**  \n",
    "slicing array in NumPy is exactly like slicing in Python, except that in Python we can only slice array by range but NumPy allow we to slice array by list of uncontinuous index.\n",
    "\n",
    "**Matrix operations**\n",
    "- `matmul(x1, x2)`: Matrix product of two arrays.  \n",
    "https://docs.scipy.org/doc/numpy/reference/generated/numpy.matmul.html\n",
    "\n",
    "<img src=\"pics/dot_product.png\" style=\"float: center\">\n",
    "\n",
    "- `multiply(x1, x2)`: Multiply arguments element-wise.  \n",
    "https://docs.scipy.org/doc/numpy/reference/generated/numpy.multiply.html\n",
    "- `divide(x1, x2)`: Division arguments element-wise.  \n",
    "https://docs.scipy.org/doc/numpy/reference/generated/numpy.divide.html\n",
    "- `transpose(x, axes=None)`: Permute the dimensions of an array.  \n",
    "https://docs.scipy.org/doc/numpy/reference/generated/numpy.transpose.html\n",
    "\n",
    "<img src=\"pics/transpose.png\" width=\"400\" height=\"200\" style=\"float: center\">\n",
    "\n",
    "**Reshape**\n",
    "- `reshape(x, newshape)`: Gives a new shape to an array without changing its data.  \n",
    "https://docs.scipy.org/doc/numpy/reference/generated/numpy.reshape.html\n",
    "- `squeeze(x, axis=None)`: Remove single-dimensional entries from the shape of an array.  \n",
    "https://docs.scipy.org/doc/numpy/reference/generated/numpy.squeeze.html"
   ]
  },
  {
   "cell_type": "code",
   "execution_count": null,
   "metadata": {},
   "outputs": [],
   "source": [
    "import numpy as np"
   ]
  },
  {
   "cell_type": "code",
   "execution_count": null,
   "metadata": {},
   "outputs": [],
   "source": [
    "# np.array(x, dtype=None)\n",
    "x = [1, 2, 3, 4]\n",
    "print(\"x: {} {}\".format(x, type(x)))\n",
    "x = np.array(x)\n",
    "print(\"x: {} {}\".format(x, type(x)))"
   ]
  },
  {
   "cell_type": "code",
   "execution_count": null,
   "metadata": {},
   "outputs": [],
   "source": [
    "# np.arange(start, stop, step, dtype=None)\n",
    "x = np.arange(10)\n",
    "print(\"x: {}\".format(x))\n",
    "x = np.arange(2, 10, 2)\n",
    "print(\"x: {}\".format(x))"
   ]
  },
  {
   "cell_type": "code",
   "execution_count": null,
   "metadata": {},
   "outputs": [],
   "source": [
    "# np.ones(shape, dtype=None)\n",
    "x = np.ones([6, 3])\n",
    "print(x)"
   ]
  },
  {
   "cell_type": "code",
   "execution_count": null,
   "metadata": {},
   "outputs": [],
   "source": [
    "# np.ones_like(x, dtype=None)\n",
    "x = np.random.randint(10, size=(5, 6))\n",
    "print(\"x: {}\".format(x.shape))\n",
    "print(x)\n",
    "y = np.ones_like(x)\n",
    "print(\"y: {}\".format(y.shape))\n",
    "print(y)"
   ]
  },
  {
   "cell_type": "code",
   "execution_count": null,
   "metadata": {},
   "outputs": [],
   "source": [
    "# np.zeros(shape, dtype=None)\n",
    "x = np.zeros([6, 3])\n",
    "print(x)"
   ]
  },
  {
   "cell_type": "code",
   "execution_count": null,
   "metadata": {},
   "outputs": [],
   "source": [
    "# np.zeros_like(x, dtype=None)\n",
    "x = np.random.randint(10, size=(5, 6))\n",
    "print(\"x: {}\".format(x.shape))\n",
    "print(x)\n",
    "y = np.zeros_like(x)\n",
    "print(\"y: {}\".format(y.shape))\n",
    "print(y)"
   ]
  },
  {
   "cell_type": "code",
   "execution_count": null,
   "metadata": {},
   "outputs": [],
   "source": [
    "# np.empty(shape, dtype=None)\n",
    "x = np.empty([6, 3])\n",
    "print(x)"
   ]
  },
  {
   "cell_type": "code",
   "execution_count": null,
   "metadata": {},
   "outputs": [],
   "source": [
    "# random.normal(loc=0.0, scale=1.0, size=None)\n",
    "x = np.random.normal(size=[1, 2, 3, 4])\n",
    "print(\"shape: {}\".format(x.shape))\n",
    "print(x)"
   ]
  },
  {
   "cell_type": "code",
   "execution_count": null,
   "metadata": {},
   "outputs": [],
   "source": [
    "# random.uniform(low=0.0, high=1.0, size=None)\n",
    "x = np.random.uniform(size=[1, 2, 3, 4])\n",
    "print(\"shape: {}\".format(x.shape))\n",
    "print(x)"
   ]
  },
  {
   "cell_type": "code",
   "execution_count": null,
   "metadata": {},
   "outputs": [],
   "source": [
    "# random.randint(low, high=None, size=None, dtype=None)\n",
    "x = np.random.randint(5, size=[1, 2, 3, 4])\n",
    "print(\"shape: {}\".format(x.shape))\n",
    "print(x)"
   ]
  },
  {
   "cell_type": "code",
   "execution_count": null,
   "metadata": {},
   "outputs": [],
   "source": [
    "# random.choice(x, size=None, replace=True, p=None)\n",
    "x = np.arange(10)\n",
    "print(\"x:\\n{}\".format(x))\n",
    "y = np.random.choice(x, size=20)\n",
    "print(\"y:\\n{}\".format(y))\n",
    "z = np.random.choice(x, size=20, p=[0.02, 0.02, 0.02, 0.02, 0.02, 0.02, 0.02, 0.02, 0.02, 0.82])\n",
    "print(\"z:\\n{}\".format(z))"
   ]
  },
  {
   "cell_type": "code",
   "execution_count": null,
   "metadata": {},
   "outputs": [],
   "source": [
    "# random.shuffle(x)\n",
    "x = np.arange(10)\n",
    "print(\"x before shuffle: {}\".format(x))\n",
    "np.random.shuffle(x)\n",
    "print(\"x after shuffle: {}\".format(x))"
   ]
  },
  {
   "cell_type": "code",
   "execution_count": null,
   "metadata": {},
   "outputs": [],
   "source": [
    "# ndarray.astype(dtype)\n",
    "x = np.arange(10, dtype=np.float32)\n",
    "print(\"x:\\n{}\".format(x))\n",
    "y = x.astype(np.int32)\n",
    "print(\"y:\\n{}\".format(y))"
   ]
  },
  {
   "cell_type": "code",
   "execution_count": null,
   "metadata": {},
   "outputs": [],
   "source": [
    "# Slicing array\n",
    "x = np.arange(10)\n",
    "print(\"x:\\n{}\".format(x))\n",
    "y = x[[2, 5, 7, 9]]\n",
    "print(\"y:\\n{}\".format(y))\n",
    "z = x[2:10]\n",
    "print(\"z:\\n{}\".format(z))"
   ]
  },
  {
   "cell_type": "code",
   "execution_count": null,
   "metadata": {},
   "outputs": [],
   "source": [
    "# matmul(x1, x2)\n",
    "x1 = np.random.randint(5, size=[3, 5])\n",
    "print(\"x1: {}\\n{}\".format(x1.shape, x1))\n",
    "x2 = np.random.randint(5, size=[5, 4])\n",
    "print(\"x2: {}\\n{}\".format(x2.shape, x2))\n",
    "y = np.matmul(x1, x2)\n",
    "print(\"y: {}\".format(y.shape))\n",
    "print(y)"
   ]
  },
  {
   "cell_type": "code",
   "execution_count": null,
   "metadata": {},
   "outputs": [],
   "source": [
    "# multiply(x1, x2)\n",
    "x1 = np.random.randint(5, size=[3, 5])\n",
    "print(\"x1: {}\\n{}\".format(x1.shape, x1))\n",
    "x2 = np.random.randint(5, size=[3, 5])\n",
    "print(\"x2: {}\\n{}\".format(x2.shape, x2))\n",
    "x3 = np.random.randint(5, size=[3, 1])\n",
    "print(\"x3: {}\\n{}\".format(x3.shape, x3))\n",
    "y1 = np.multiply(x1, x2)\n",
    "print(\"y1: {}\".format(y1.shape))\n",
    "print(y1)\n",
    "y2 = x1 * x3\n",
    "print(\"y2: {}\".format(y2.shape))\n",
    "print(y2)"
   ]
  },
  {
   "cell_type": "code",
   "execution_count": null,
   "metadata": {},
   "outputs": [],
   "source": [
    "# divide(x1, x2)\n",
    "x1 = np.random.randint(1, 5, size=[3, 5])\n",
    "print(\"x1: {}\\n{}\".format(x1.shape, x1))\n",
    "x2 = np.random.randint(1, 5, size=[3, 5])\n",
    "print(\"x2: {}\\n{}\".format(x2.shape, x2))\n",
    "x3 = np.random.randint(1, 5, size=[3, 1])\n",
    "print(\"x3: {}\\n{}\".format(x3.shape, x3))\n",
    "y1 = np.divide(x1, x2)\n",
    "print(\"y1: {}\".format(y1.shape))\n",
    "print(y1)\n",
    "y2 = x1 / x3\n",
    "print(\"y2: {}\".format(y2.shape))\n",
    "print(y2)"
   ]
  },
  {
   "cell_type": "code",
   "execution_count": null,
   "metadata": {},
   "outputs": [],
   "source": [
    "# transpose(x, axes=None)\n",
    "x = np.random.randint(5, size=[1, 2, 3, 4])\n",
    "print(\"x: {}\".format(x.shape))\n",
    "y1 = np.transpose(x)\n",
    "print(\"y1: {}\".format(y1.shape))\n",
    "y2 = x.T\n",
    "print(\"y2: {}\".format(y2.shape))\n",
    "y3 = np.transpose(x, axes=[0, 1, 3, 2])\n",
    "print(\"y3: {}\".format(y3.shape))"
   ]
  },
  {
   "cell_type": "code",
   "execution_count": null,
   "metadata": {},
   "outputs": [],
   "source": [
    "# reshape(x, newshape)\n",
    "x = np.random.randint(5, size=[1, 2, 3, 4])\n",
    "print(\"x: {}\".format(x.shape))\n",
    "print(x)\n",
    "y1 = x.reshape([1, 2, 12])\n",
    "print(\"y1: {}\".format(y1.shape))\n",
    "print(y1)\n",
    "y2 = np.reshape(x, [1, 2, 12])\n",
    "print(\"y2: {}\".format(y2.shape))"
   ]
  },
  {
   "cell_type": "code",
   "execution_count": null,
   "metadata": {},
   "outputs": [],
   "source": [
    "# squeeze(x, axis=None)\n",
    "x = np.random.randint(5, size=[1, 2, 3, 1])\n",
    "print(\"x: {}\".format(x.shape))\n",
    "y1 = x.squeeze()\n",
    "print(\"y1: {}\".format(y1.shape))\n",
    "y2 = np.squeeze(x)\n",
    "print(\"y2: {}\".format(y2.shape))\n",
    "y3 = np.squeeze(x, axis=0)\n",
    "print(\"y3: {}\".format(y3.shape))"
   ]
  },
  {
   "cell_type": "code",
   "execution_count": null,
   "metadata": {},
   "outputs": [],
   "source": [
    "sin((t + phase_shift) * w) * attitude + vertical_shift"
   ]
  },
  {
   "cell_type": "markdown",
   "metadata": {},
   "source": [
    "### Matplotlib\n",
    "Matplotlib is a library for plotting various types of chart in Python for visualization, example types of chart are.  \n",
    "- Line chart: `plot(x, y, format=None)`  \n",
    "https://matplotlib.org/3.1.3/api/_as_gen/matplotlib.pyplot.plot.html#matplotlib.pyplot.plot\n",
    "- Image: `imshow(x)`  \n",
    "https://matplotlib.org/3.1.3/api/_as_gen/matplotlib.pyplot.imshow.html#matplotlib.pyplot.imshow\n",
    "- Histogram: `hist(x, bins=None)`  \n",
    "https://matplotlib.org/3.1.3/api/_as_gen/matplotlib.pyplot.hist.html#matplotlib.pyplot.hist\n",
    "- Bar chart: `bar(x, height)`  \n",
    "https://matplotlib.org/3.1.3/api/_as_gen/matplotlib.pyplot.bar.html#matplotlib.pyplot.bar\n",
    "- Pie chart: `pie(x, explode=None, labels=None)`  \n",
    "https://matplotlib.org/3.1.3/api/_as_gen/matplotlib.pyplot.pie.html#matplotlib.pyplot.pie\n",
    "- Scatter chart: `scatter(x, y, s=None, c=None, marker=None)`  \n",
    "https://matplotlib.org/3.1.3/api/_as_gen/matplotlib.pyplot.scatter.html#matplotlib.pyplot.scatter"
   ]
  },
  {
   "cell_type": "code",
   "execution_count": null,
   "metadata": {},
   "outputs": [],
   "source": [
    "import matplotlib.pyplot as plt"
   ]
  },
  {
   "cell_type": "code",
   "execution_count": null,
   "metadata": {},
   "outputs": [],
   "source": [
    "# Line chart\n",
    "x = list(range(10))\n",
    "y1 = [2 * _x + 3 for _x in x]\n",
    "y2 = [-2 * _x + 15 for _x in x]\n",
    "\n",
    "plt.figure(figsize=(14, 5))             # Define figure size\n",
    "\n",
    "plt.subplot(1, 2, 1)                    # Define next plot is a first chart\n",
    "plt.plot(x, y1)                         # Plot first chart\n",
    "\n",
    "plt.subplot(1, 2, 2)                    # Define next plot is a second chart\n",
    "plt.plot(x, y1, \"g--\", x, y2, \"r--\")    # Plot second chart\n",
    "plt.title(\"Line plot2\")                 # Defind title for second charts\n",
    "plt.legend([\"y1\", \"y2\"])                # Defind legend for second chart\n",
    "plt.xlabel(\"X\")                         # Defind x-axis label for second chart\n",
    "plt.ylabel(\"Y\")                         # Defind y-axis label for second chart\n",
    "\n",
    "plt.show()                              # Show plotting"
   ]
  },
  {
   "cell_type": "code",
   "execution_count": null,
   "metadata": {},
   "outputs": [],
   "source": [
    "# Image\n",
    "img = plt.imread(\"./pics/Python_Image_02.jpg\")    # Read image\n",
    "\n",
    "plt.figure(figsize=(14, 5))\n",
    "plt.imshow(img)                                   # Plot the image\n",
    "plt.show()"
   ]
  },
  {
   "cell_type": "code",
   "execution_count": null,
   "metadata": {},
   "outputs": [],
   "source": [
    "# Histogram\n",
    "np.random.seed(0)\n",
    "x1 = np.random.normal(size=(10000, ))    # Random 10000 numbers with normal distribution\n",
    "x2 = np.random.uniform(size=(10000, ))   # Random 10000 numbers with uniform distribution\n",
    "\n",
    "plt.figure(figsize=(14, 5))\n",
    "\n",
    "plt.subplot(1, 2, 1)\n",
    "plt.hist(x1, bins=50)                    # Plot histogram\n",
    "plt.title(\"Random with normal distribution\")\n",
    "\n",
    "plt.subplot(1, 2, 2)\n",
    "plt.hist(x2, bins=50)                    # Plot histogram\n",
    "plt.title(\"Random with uniform distribution\")\n",
    "\n",
    "plt.show()"
   ]
  },
  {
   "cell_type": "code",
   "execution_count": null,
   "metadata": {},
   "outputs": [],
   "source": [
    "# Bar chart\n",
    "np.random.seed(0)\n",
    "x = list(range(10))\n",
    "height = np.random.randint(100, size=len(x))\n",
    "\n",
    "print(\"height: {}\".format(height))\n",
    "plt.figure(figsize=(7, 5))\n",
    "plt.bar(x, height)                              # Plot bar chart\n",
    "plt.show()"
   ]
  },
  {
   "cell_type": "code",
   "execution_count": null,
   "metadata": {},
   "outputs": [],
   "source": [
    "# Bar chart\n",
    "np.random.seed(0)\n",
    "x = np.random.randint(50, 100, size=4)\n",
    "labels = [\"Frogs\", \"Hogs\", \"Dogs\", \"Logs\"]\n",
    "explode = [0.0, 0.1, 0.0, 0.0]\n",
    "\n",
    "print(\"labels: {}\".format(labels))\n",
    "print(\"x: {}\".format(x))\n",
    "plt.figure(figsize=(7, 5))\n",
    "plt.pie(x, explode, labels, autopct='%.1f%%', shadow=True)    # Plot pie chart\n",
    "plt.show()"
   ]
  },
  {
   "cell_type": "code",
   "execution_count": null,
   "metadata": {},
   "outputs": [],
   "source": [
    "# Scatter chart\n",
    "np.random.seed(0)\n",
    "x = np.random.rand(100)\n",
    "y = np.random.rand(100)\n",
    "c = np.random.rand(100)\n",
    "s = np.random.rand(100) * 90\n",
    "\n",
    "plt.figure(figsize=(7, 5))\n",
    "plt.scatter(x, y, s=s, c=c, marker='^')    # Plot scatter chart\n",
    "plt.show()"
   ]
  },
  {
   "cell_type": "markdown",
   "metadata": {},
   "source": [
    "### Pandas\n",
    "Pandas is a Python library for data analysis manipulation.  \n",
    "**Create DataFrame**\n",
    "- `DataFrame(data=None, index=None, columns=None)`: Create DataFrame from dictionary or array.  \n",
    "https://pandas.pydata.org/pandas-docs/stable/reference/api/pandas.DataFrame.html\n",
    "\n",
    "**Load data**\n",
    "- `read_csv(filepath, header=0)`: Load data from CSV file.  \n",
    "https://pandas.pydata.org/pandas-docs/stable/reference/api/pandas.read_csv.html\n",
    "- `read_excel(filepath, sheetname=0, header=0)`: Load data from Excel file.  \n",
    "https://pandas.pydata.org/pandas-docs/stable/reference/api/pandas.read_excel.html\n",
    "- `read_pickle(filepath)`: Load data from Pickle file.  \n",
    "https://pandas.pydata.org/pandas-docs/stable/reference/api/pandas.read_pickle.html\n",
    "\n",
    "**Save data**\n",
    "- `to_csv(filepath, header=True, index=True)`: Save data to CSV file.  \n",
    "https://pandas.pydata.org/pandas-docs/stable/reference/api/pandas.DataFrame.to_csv.html\n",
    "- `to_excel(filepath, sheet_name=\"Sheet1\", header=True, index=True)`: Save data to Excel file.  \n",
    "https://pandas.pydata.org/pandas-docs/stable/reference/api/pandas.DataFrame.to_excel.html\n",
    "- `to_pickle(filepath)`: Save data to Pickle file.  \n",
    "https://pandas.pydata.org/pandas-docs/stable/reference/api/pandas.DataFrame.to_pickle.html\n",
    "\n",
    "**DataFrame & Series**  \n",
    "DataFrame and Series are special data structure of Pandas which come with a lot of build-in methods (check this link https://pandas.pydata.org/pandas-docs/stable/reference/api/pandas.DataFrame.html) to help you manipulate data easier.\n",
    "\n",
    "<img src=\"pics/DataFrame.png\" width=\"750\" height=\"300\" style=\"float: center\">\n",
    "\n",
    "**Visualize data**\n",
    "- `DataFrame.head(n)`: Show first n row of DataFrame.  \n",
    "https://pandas.pydata.org/pandas-docs/stable/reference/api/pandas.DataFrame.head.html\n",
    "- `DataFrame.tail(n)`: Show last n row of DataFrame.  \n",
    "https://pandas.pydata.org/pandas-docs/stable/reference/api/pandas.DataFrame.tail.html\n",
    "- `DataFrame.describe()`: Show statistics information of DataFrame.  \n",
    "https://pandas.pydata.org/pandas-docs/stable/reference/api/pandas.DataFrame.describe.html\n",
    "- `DataFrame.info()`: Show concise summary of DataFrame.  \n",
    "https://pandas.pydata.org/pandas-docs/stable/reference/api/pandas.DataFrame.info.html\n",
    "- `DataFrame.hist(bins=None, figsize=None)`: Show histogram charts of DataFrame.  \n",
    "https://pandas.pydata.org/pandas-docs/stable/reference/api/pandas.DataFrame.hist.html\n",
    "\n",
    "**Random**\n",
    "- `DataFrame.sample(n=None, frac=None, replace=False, weights=None, random_state=None, axis=None)`: Randomly sample data from DataFrame.  \n",
    "https://pandas.pydata.org/pandas-docs/stable/reference/api/pandas.DataFrame.sample.html\n",
    "\n",
    "**Slicing data**\n",
    "- `DataFrame.iloc`: Slice DataFrame base on index.  \n",
    "https://pandas.pydata.org/pandas-docs/stable/reference/api/pandas.DataFrame.iloc.html\n",
    "- `DataFrame.loc`: Slice DataFrame base in string.  \n",
    "https://pandas.pydata.org/pandas-docs/stable/reference/api/pandas.DataFrame.loc.html\n",
    "\n",
    "**Query**\n",
    "- `DataFrame.query(expr)`: Get partial part of DataFrame by some condition.  \n",
    "https://pandas.pydata.org/pandas-docs/stable/reference/api/pandas.DataFrame.query.html\n",
    "\n",
    "**Copy DataFrame**\n",
    "- `DataFrame.copy()`: Copy DataFrame.  \n",
    "https://pandas.pydata.org/pandas-docs/stable/reference/api/pandas.DataFrame.copy.html\n",
    "\n",
    "**Remove data**\n",
    "- `DataFrame.drop(index=None, columns=None, inplace=False)`: Remove data in DataFrame by index or column.  \n",
    "https://pandas.pydata.org/pandas-docs/stable/reference/api/pandas.DataFrame.drop.html"
   ]
  },
  {
   "cell_type": "code",
   "execution_count": null,
   "metadata": {},
   "outputs": [],
   "source": [
    "import pandas as pd\n",
    "import matplotlib.pyplot as plt"
   ]
  },
  {
   "cell_type": "code",
   "execution_count": null,
   "metadata": {},
   "outputs": [],
   "source": [
    "# DataFrame(data=None, index=None, columns=None)\n",
    "data = {\"Name\": [\"A\", \"B\", \"C\"], \"Age\": [20, 21, 22]}\n",
    "dataframe = pd.DataFrame(data)\n",
    "dataframe"
   ]
  },
  {
   "cell_type": "code",
   "execution_count": null,
   "metadata": {},
   "outputs": [],
   "source": [
    "# DataFrame(data=None, index=None, columns=None)\n",
    "data = [[\"A\", 20], [\"B\", 21], [\"C\", 22]]\n",
    "index = [\"a\", \"b\", \"c\"]\n",
    "columns = [\"Name\", \"Age\"]\n",
    "dataframe = pd.DataFrame(data, index=index, columns=columns)\n",
    "dataframe"
   ]
  },
  {
   "cell_type": "code",
   "execution_count": null,
   "metadata": {},
   "outputs": [],
   "source": [
    "# read_csv(filepath, header=0)\n",
    "data = pd.read_csv(\"./datasets/heart.csv\")\n",
    "data"
   ]
  },
  {
   "cell_type": "code",
   "execution_count": null,
   "metadata": {},
   "outputs": [],
   "source": [
    "# DataFrame.head(n)\n",
    "data.head()"
   ]
  },
  {
   "cell_type": "code",
   "execution_count": null,
   "metadata": {},
   "outputs": [],
   "source": [
    "# DataFrame.tail(n)\n",
    "data.tail()"
   ]
  },
  {
   "cell_type": "code",
   "execution_count": null,
   "metadata": {},
   "outputs": [],
   "source": [
    "# DataFrame.describe()\n",
    "data.describe()"
   ]
  },
  {
   "cell_type": "code",
   "execution_count": null,
   "metadata": {},
   "outputs": [],
   "source": [
    "# DataFrame.info()\n",
    "data.info()"
   ]
  },
  {
   "cell_type": "code",
   "execution_count": null,
   "metadata": {},
   "outputs": [],
   "source": [
    "# DataFrame.hist(bins=None, figsize=None)\n",
    "data.hist(figsize=(14, 15))\n",
    "plt.show()"
   ]
  },
  {
   "cell_type": "code",
   "execution_count": null,
   "metadata": {},
   "outputs": [],
   "source": [
    "# DataFrame.sample(n=None, frac=None, replace=False, weights=None, random_state=None, axis=None)\n",
    "sampled = data.sample(frac=.5, axis=0).reset_index(drop=True)\n",
    "sampled"
   ]
  },
  {
   "cell_type": "code",
   "execution_count": null,
   "metadata": {},
   "outputs": [],
   "source": [
    "# DataFrame.iloc\n",
    "data.iloc[1:3, 0:5]"
   ]
  },
  {
   "cell_type": "code",
   "execution_count": null,
   "metadata": {},
   "outputs": [],
   "source": [
    "# DataFrame.loc\n",
    "data.loc[1:3, \"age\":\"cp\"]"
   ]
  },
  {
   "cell_type": "code",
   "execution_count": null,
   "metadata": {},
   "outputs": [],
   "source": [
    "# DataFrame.query(expr)\n",
    "# data.query(\"age < 40\")\n",
    "data[data[\"age\"] < 40]"
   ]
  },
  {
   "cell_type": "code",
   "execution_count": null,
   "metadata": {},
   "outputs": [],
   "source": [
    "# DataFrame.copy()\n",
    "new_data = data\n",
    "print(new_data is data)\n",
    "\n",
    "new_data = data.copy()\n",
    "print(new_data is data)"
   ]
  },
  {
   "cell_type": "code",
   "execution_count": null,
   "metadata": {},
   "outputs": [],
   "source": [
    "# DataFrame.drop(index=None, columns=None, inplace=False)\n",
    "print(data.head())\n",
    "print(\"-\" * 100)\n",
    "\n",
    "print(\"Drop data by index:\")\n",
    "new_data = data.drop(index=2)\n",
    "print(new_data.head())\n",
    "print(\"-\" * 100)\n",
    "\n",
    "print(\"Drop data by column (single column):\")\n",
    "new_data = data.drop(columns=\"age\")\n",
    "print(new_data.head())\n",
    "print(\"-\" * 100)\n",
    "\n",
    "print(\"Drop data by columns (Multiple columns):\")\n",
    "new_data = data.drop(columns=[\"age\", \"sex\", \"cp\"])\n",
    "print(new_data.head())\n",
    "print(\"-\" * 100)"
   ]
  },
  {
   "cell_type": "markdown",
   "metadata": {},
   "source": [
    "### Practice"
   ]
  },
  {
   "cell_type": "markdown",
   "metadata": {},
   "source": [
    "1. Create a signal generator class which has arguments as below **without using a for-loop**.\n",
    "```python\n",
    "class Generator:\n",
    "    def __init__(self, period, signal_type=\"sine\", amplitude=1, vertical_shift=0, phase_shift=0):\n",
    "        \"\"\"\n",
    "        period: Time take for 1 cycle\n",
    "        signal_type: Can be either \"sine\", \"cos\", \"half-sine\", \"half-cos\", \"sawtooth\"\n",
    "        amplitude: Height from center to peak of signal\n",
    "        vertical_shift: How far the signal shift vertically\n",
    "        phase_shift: How far the signal shift horizontally\n",
    "        \"\"\"\n",
    "        pass\n",
    "    \n",
    "    def __call__(self, start_t, stop_t):\n",
    "        \"\"\"\n",
    "        Generate signal from time start_t to stop_t\n",
    "        \"\"\"\n",
    "        pass\n",
    "```\n",
    "\n",
    "See example of signals generated with period = 100 and everything default.  \n",
    "**Sine:**\n",
    "\n",
    "<img src=\"pics/Sine.png\" width=\"600\" height=\"300\" style=\"float: center\">\n",
    "\n",
    "**Cos:**\n",
    "\n",
    "<img src=\"pics/Cos.png\" width=\"600\" height=\"300\" style=\"float: center\">\n",
    "\n",
    "**Half-Sine:**\n",
    "\n",
    "<img src=\"pics/Half-Sine.png\" width=\"600\" height=\"300\" style=\"float: center\">\n",
    "\n",
    "**Half-Cos:**\n",
    "\n",
    "<img src=\"pics/Half-Cos.png\" width=\"600\" height=\"300\" style=\"float: center\">\n",
    "\n",
    "**Sawtooth:**\n",
    "\n",
    "<img src=\"pics/Sawtooth.png\" width=\"600\" height=\"300\" style=\"float: center\">"
   ]
  },
  {
   "cell_type": "code",
   "execution_count": null,
   "metadata": {},
   "outputs": [],
   "source": [
    "import numpy as np\n",
    "import pandas as pd\n",
    "import matplotlib.pyplot as plt\n",
    "from utilities.SignalGenerator import SignalGenerator as ExampleGenerator"
   ]
  },
  {
   "cell_type": "code",
   "execution_count": null,
   "metadata": {},
   "outputs": [],
   "source": [
    "class Generator:\n",
    "    # Put your code here\n",
    "    pass"
   ]
  },
  {
   "cell_type": "code",
   "execution_count": null,
   "metadata": {},
   "outputs": [],
   "source": [
    "# Compare your code to SignalGenerator, they should produce the same output\n",
    "# Feel free to adjust below parameters\n",
    "period = 100\n",
    "signal_type = \"half-sine\"\n",
    "amplitude = 2.5\n",
    "vertical_shift = 1.5\n",
    "phase_shift = 50\n",
    "start_t = 0\n",
    "stop_t = 200\n",
    "\n",
    "example_generator = ExampleGenerator(period, signal_type, amplitude, vertical_shift, phase_shift)\n",
    "generator = ExampleGenerator(period, signal_type, amplitude, vertical_shift, phase_shift)\n",
    "\n",
    "y1 = example_generator(start_t, stop_t)\n",
    "y2 = generator(start_t, stop_t)\n",
    "\n",
    "plt.figure(figsize=(14, 10))\n",
    "\n",
    "plt.subplot(2, 1, 1)\n",
    "plt.plot(y1)\n",
    "plt.grid(True)\n",
    "plt.title(\"Target\")\n",
    "\n",
    "plt.subplot(2, 1, 2)\n",
    "plt.plot(y2)\n",
    "plt.grid(True)\n",
    "plt.title(\"Our\")\n",
    "\n",
    "plt.show()"
   ]
  },
  {
   "cell_type": "code",
   "execution_count": null,
   "metadata": {},
   "outputs": [],
   "source": []
  }
 ],
 "metadata": {
  "kernelspec": {
   "display_name": "Python 3",
   "language": "python",
   "name": "python3"
  },
  "language_info": {
   "codemirror_mode": {
    "name": "ipython",
    "version": 3
   },
   "file_extension": ".py",
   "mimetype": "text/x-python",
   "name": "python",
   "nbconvert_exporter": "python",
   "pygments_lexer": "ipython3",
   "version": "3.7.4"
  }
 },
 "nbformat": 4,
 "nbformat_minor": 4
}
