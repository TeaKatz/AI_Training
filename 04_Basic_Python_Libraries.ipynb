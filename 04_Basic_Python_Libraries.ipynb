{
 "cells": [
  {
   "cell_type": "markdown",
   "metadata": {},
   "source": [
    "### Basic Python Libraries\n",
    "<img src=\"pics/Libraries_01.jpg\" width=\"800\" height=\"400\">"
   ]
  },
  {
   "cell_type": "markdown",
   "metadata": {},
   "source": [
    "### Agenda\n",
    "1. Numpy\n",
    "2. Matplotlib\n",
    "3. Pandas\n",
    "4. Practice"
   ]
  },
  {
   "cell_type": "code",
   "execution_count": null,
   "metadata": {},
   "outputs": [],
   "source": [
    "import numpy as np\n",
    "import matplotlib.pyplot as plt\n",
    "import pandas as pd"
   ]
  },
  {
   "cell_type": "markdown",
   "metadata": {},
   "source": [
    "### 1. NumPy\n",
    "NumPy is a library for dealing with matrix operation in Python.\n",
    "#### 1.1. Declare variable\n",
    "- `array(x, dtype=None)`: Convert Python's list to ndarray.  \n",
    "https://docs.scipy.org/doc/numpy/reference/generated/numpy.array.html"
   ]
  },
  {
   "cell_type": "code",
   "execution_count": null,
   "metadata": {},
   "outputs": [],
   "source": [
    "x = [1, 2, 3, 4]\n",
    "print(\"x: {} {}\".format(x, type(x)))\n",
    "x = np.array(x)\n",
    "print(\"x: {} {}\".format(x, type(x)))"
   ]
  },
  {
   "cell_type": "markdown",
   "metadata": {},
   "source": [
    "- `arange(start, stop, step, dtype=None)`: Like ```range()``` but is ndarray.  \n",
    "https://docs.scipy.org/doc/numpy/reference/generated/numpy.arange.html"
   ]
  },
  {
   "cell_type": "code",
   "execution_count": null,
   "metadata": {},
   "outputs": [],
   "source": [
    "x = np.arange(10)\n",
    "print(\"x: {}\".format(x))\n",
    "x = np.arange(2, 10, 2)\n",
    "print(\"x: {}\".format(x))"
   ]
  },
  {
   "cell_type": "markdown",
   "metadata": {},
   "source": [
    "- `ones(shape, dtype=None)`: Create ndarray of 1 of the given shape.  \n",
    "https://docs.scipy.org/doc/numpy/reference/generated/numpy.ones.html"
   ]
  },
  {
   "cell_type": "code",
   "execution_count": null,
   "metadata": {},
   "outputs": [],
   "source": [
    "x = np.ones([6, 3])\n",
    "print(x)"
   ]
  },
  {
   "cell_type": "markdown",
   "metadata": {},
   "source": [
    "- `ones_like(x, dtype=None)`: Create ndarray of 1 with the same shape as the given input array.  \n",
    "https://docs.scipy.org/doc/numpy/reference/generated/numpy.ones_like.html"
   ]
  },
  {
   "cell_type": "code",
   "execution_count": null,
   "metadata": {},
   "outputs": [],
   "source": [
    "x = np.random.randint(10, size=(5, 6))\n",
    "print(\"x: {}\".format(x.shape))\n",
    "print(x)\n",
    "y = np.ones_like(x)\n",
    "print(\"y: {}\".format(y.shape))\n",
    "print(y)"
   ]
  },
  {
   "cell_type": "markdown",
   "metadata": {},
   "source": [
    "- `zeros(shape, dtype=None)`: Create ndarray of 0 of the given shape.  \n",
    "https://docs.scipy.org/doc/numpy/reference/generated/numpy.zeros.html"
   ]
  },
  {
   "cell_type": "code",
   "execution_count": null,
   "metadata": {},
   "outputs": [],
   "source": [
    "x = np.zeros([6, 3])\n",
    "print(x)"
   ]
  },
  {
   "cell_type": "markdown",
   "metadata": {},
   "source": [
    "- `zeros_like(x, dtype=None)`: Create ndarray of 0 with the same shape as the given input array.  \n",
    "https://docs.scipy.org/doc/numpy/reference/generated/numpy.zeros_like.html"
   ]
  },
  {
   "cell_type": "code",
   "execution_count": null,
   "metadata": {},
   "outputs": [],
   "source": [
    "x = np.random.randint(10, size=(5, 6))\n",
    "print(\"x: {}\".format(x.shape))\n",
    "print(x)\n",
    "y = np.zeros_like(x)\n",
    "print(\"y: {}\".format(y.shape))\n",
    "print(y)"
   ]
  },
  {
   "cell_type": "markdown",
   "metadata": {},
   "source": [
    "- `empty(shape, dtype=None)`: Create ndarray of random values of the given shape.  \n",
    "https://docs.scipy.org/doc/numpy/reference/generated/numpy.empty.html"
   ]
  },
  {
   "cell_type": "code",
   "execution_count": null,
   "metadata": {},
   "outputs": [],
   "source": [
    "x = np.empty([6, 3])\n",
    "print(x)"
   ]
  },
  {
   "cell_type": "markdown",
   "metadata": {},
   "source": [
    "#### 1.2. Random\n",
    "- `random.normal(loc=0.0, scale=1.0, size=None)`: Create ndarray of float which random from normal distribution.  \n",
    "https://docs.scipy.org/doc/numpy-1.15.0/reference/generated/numpy.random.normal.html\n",
    "\n",
    "<img src=\"pics/normal_distribution.svg\" width=\"500\" height=\"250\">"
   ]
  },
  {
   "cell_type": "code",
   "execution_count": null,
   "metadata": {},
   "outputs": [],
   "source": [
    "x = np.random.normal(size=[1, 2, 3, 4])\n",
    "print(\"shape: {}\".format(x.shape))\n",
    "print(x)"
   ]
  },
  {
   "cell_type": "markdown",
   "metadata": {},
   "source": [
    "- `random.uniform(low=0.0, high=1.0, size=None)`: Create ndarray of float which random from uniform distribution.  \n",
    "https://docs.scipy.org/doc/numpy-1.14.0/reference/generated/numpy.random.uniform.html\n",
    "\n",
    "<img src=\"pics/uniform_distribution.gif\" width=\"500\" height=\"250\">"
   ]
  },
  {
   "cell_type": "code",
   "execution_count": null,
   "metadata": {},
   "outputs": [],
   "source": [
    "x = np.random.uniform(size=[1, 2, 3, 4])\n",
    "print(\"shape: {}\".format(x.shape))\n",
    "print(x)"
   ]
  },
  {
   "cell_type": "markdown",
   "metadata": {},
   "source": [
    "- `random.randint(low, high=None, size=None, dtype=None)`: Create ndarray of integer from uniform distribution.  \n",
    "https://docs.scipy.org/doc/numpy-1.15.1/reference/generated/numpy.random.randint.html"
   ]
  },
  {
   "cell_type": "code",
   "execution_count": null,
   "metadata": {},
   "outputs": [],
   "source": [
    "x = np.random.randint(5, size=[1, 2, 3, 4])\n",
    "print(\"shape: {}\".format(x.shape))\n",
    "print(x)"
   ]
  },
  {
   "cell_type": "markdown",
   "metadata": {},
   "source": [
    "- `random.choice(x, size=None, replace=True, p=None)`: Sampling values from a given array.  \n",
    "https://docs.scipy.org/doc/numpy-1.15.0/reference/generated/numpy.random.choice.html"
   ]
  },
  {
   "cell_type": "code",
   "execution_count": null,
   "metadata": {},
   "outputs": [],
   "source": [
    "x = np.arange(10)\n",
    "print(\"x:\\n{}\".format(x))\n",
    "y = np.random.choice(x, size=20)\n",
    "print(\"y:\\n{}\".format(y))\n",
    "z = np.random.choice(x, size=20, p=[0.02, 0.02, 0.02, 0.02, 0.02, 0.02, 0.02, 0.02, 0.02, 0.82])\n",
    "print(\"z:\\n{}\".format(z))"
   ]
  },
  {
   "cell_type": "markdown",
   "metadata": {},
   "source": [
    "- `random.shuffle(x)`: Randomly shuffle input ndarray.  \n",
    "https://docs.scipy.org/doc/numpy-1.15.0/reference/generated/numpy.random.shuffle.html"
   ]
  },
  {
   "cell_type": "code",
   "execution_count": null,
   "metadata": {},
   "outputs": [],
   "source": [
    "x = np.arange(10)\n",
    "print(\"x before shuffle: {}\".format(x))\n",
    "np.random.shuffle(x)\n",
    "print(\"x after shuffle: {}\".format(x))"
   ]
  },
  {
   "cell_type": "markdown",
   "metadata": {},
   "source": [
    "#### 1.3. Casting type\n",
    "- `ndarray.astype(dtype)`  \n",
    "https://docs.scipy.org/doc/numpy/reference/generated/numpy.ndarray.astype.html  \n",
    "\n",
    "**NumPy types**\n",
    "- `np.int8`\n",
    "- `np.int16`\n",
    "- `np.int32`\n",
    "- `np.int64`\n",
    "- `np.uint8`\n",
    "- `np.uint16`\n",
    "- `np.uint32`\n",
    "- `np.uint64`\n",
    "- `np.float32`\n",
    "- `np.float64`\n",
    "- `np.string`"
   ]
  },
  {
   "cell_type": "code",
   "execution_count": null,
   "metadata": {},
   "outputs": [],
   "source": [
    "x = np.arange(10, dtype=np.float32)\n",
    "print(\"x:\\n{}\".format(x))\n",
    "y = x.astype(np.int32)\n",
    "print(\"y:\\n{}\".format(y))"
   ]
  },
  {
   "cell_type": "markdown",
   "metadata": {},
   "source": [
    "#### 1.4. Slicing array\n",
    "slicing array in NumPy is exactly like slicing in Python, except that in Python we can only slice array by range but NumPy allow we to slice array by list of uncontinuous index."
   ]
  },
  {
   "cell_type": "code",
   "execution_count": null,
   "metadata": {},
   "outputs": [],
   "source": [
    "x = np.arange(10)\n",
    "print(\"x:\\n{}\".format(x))\n",
    "y = x[[2, 5, 7, 9]]\n",
    "print(\"y:\\n{}\".format(y))\n",
    "z = x[2:10]\n",
    "print(\"z:\\n{}\".format(z))"
   ]
  },
  {
   "cell_type": "markdown",
   "metadata": {},
   "source": [
    "#### 1.5. Matrix operations\n",
    "- `matmul(x1, x2)`: Matrix product of two arrays.  \n",
    "https://docs.scipy.org/doc/numpy/reference/generated/numpy.matmul.html\n",
    "\n",
    "<img src=\"pics/dot_product.png\">"
   ]
  },
  {
   "cell_type": "code",
   "execution_count": null,
   "metadata": {},
   "outputs": [],
   "source": [
    "x1 = np.random.randint(5, size=[3, 5])\n",
    "print(\"x1: {}\\n{}\".format(x1.shape, x1))\n",
    "x2 = np.random.randint(5, size=[5, 4])\n",
    "print(\"x2: {}\\n{}\".format(x2.shape, x2))\n",
    "y = np.matmul(x1, x2)\n",
    "print(\"y: {}\".format(y.shape))\n",
    "print(y)"
   ]
  },
  {
   "cell_type": "markdown",
   "metadata": {},
   "source": [
    "- `multiply(x1, x2)`: Multiply arguments element-wise.  \n",
    "https://docs.scipy.org/doc/numpy/reference/generated/numpy.multiply.html"
   ]
  },
  {
   "cell_type": "code",
   "execution_count": null,
   "metadata": {},
   "outputs": [],
   "source": [
    "x1 = np.random.randint(5, size=[3, 5])\n",
    "print(\"x1: {}\\n{}\".format(x1.shape, x1))\n",
    "x2 = np.random.randint(5, size=[3, 5])\n",
    "print(\"x2: {}\\n{}\".format(x2.shape, x2))\n",
    "x3 = np.random.randint(5, size=[3, 1])\n",
    "print(\"x3: {}\\n{}\".format(x3.shape, x3))\n",
    "y1 = np.multiply(x1, x2)\n",
    "print(\"y1: {}\".format(y1.shape))\n",
    "print(y1)\n",
    "y2 = x1 * x3\n",
    "print(\"y2: {}\".format(y2.shape))\n",
    "print(y2)"
   ]
  },
  {
   "cell_type": "markdown",
   "metadata": {},
   "source": [
    "- `divide(x1, x2)`: Division arguments element-wise.  \n",
    "https://docs.scipy.org/doc/numpy/reference/generated/numpy.divide.html"
   ]
  },
  {
   "cell_type": "code",
   "execution_count": null,
   "metadata": {},
   "outputs": [],
   "source": [
    "x1 = np.random.randint(1, 5, size=[3, 5])\n",
    "print(\"x1: {}\\n{}\".format(x1.shape, x1))\n",
    "x2 = np.random.randint(1, 5, size=[3, 5])\n",
    "print(\"x2: {}\\n{}\".format(x2.shape, x2))\n",
    "x3 = np.random.randint(1, 5, size=[3, 1])\n",
    "print(\"x3: {}\\n{}\".format(x3.shape, x3))\n",
    "y1 = np.divide(x1, x2)\n",
    "print(\"y1: {}\".format(y1.shape))\n",
    "print(y1)\n",
    "y2 = x1 / x3\n",
    "print(\"y2: {}\".format(y2.shape))\n",
    "print(y2)"
   ]
  },
  {
   "cell_type": "markdown",
   "metadata": {},
   "source": [
    "- `transpose(x, axes=None)`: Permute the dimensions of an array.  \n",
    "https://docs.scipy.org/doc/numpy/reference/generated/numpy.transpose.html\n",
    "\n",
    "<img src=\"pics/transpose.png\" width=\"400\" height=\"200\">"
   ]
  },
  {
   "cell_type": "code",
   "execution_count": null,
   "metadata": {},
   "outputs": [],
   "source": [
    "x = np.random.randint(5, size=[1, 2, 3, 4])\n",
    "print(\"x: {}\".format(x.shape))\n",
    "y1 = np.transpose(x)\n",
    "print(\"y1: {}\".format(y1.shape))\n",
    "y2 = x.T\n",
    "print(\"y2: {}\".format(y2.shape))\n",
    "y3 = np.transpose(x, axes=[0, 1, 3, 2])\n",
    "print(\"y3: {}\".format(y3.shape))"
   ]
  },
  {
   "cell_type": "markdown",
   "metadata": {},
   "source": [
    "#### 1.6. Reshape\n",
    "- `reshape(x, newshape)`: Gives a new shape to an array without changing its data.  \n",
    "https://docs.scipy.org/doc/numpy/reference/generated/numpy.reshape.html"
   ]
  },
  {
   "cell_type": "code",
   "execution_count": null,
   "metadata": {},
   "outputs": [],
   "source": [
    "x = np.random.randint(5, size=[1, 2, 3, 4])\n",
    "print(\"x: {}\".format(x.shape))\n",
    "print(x)\n",
    "y1 = x.reshape([1, 2, 12])\n",
    "print(\"y1: {}\".format(y1.shape))\n",
    "print(y1)\n",
    "y2 = np.reshape(x, [1, 2, 12])\n",
    "print(\"y2: {}\".format(y2.shape))"
   ]
  },
  {
   "cell_type": "markdown",
   "metadata": {},
   "source": [
    "- `squeeze(x, axis=None)`: Remove single-dimensional entries from the shape of an array.  \n",
    "https://docs.scipy.org/doc/numpy/reference/generated/numpy.squeeze.html"
   ]
  },
  {
   "cell_type": "code",
   "execution_count": null,
   "metadata": {},
   "outputs": [],
   "source": [
    "x = np.random.randint(5, size=[1, 2, 3, 1])\n",
    "print(\"x: {}\".format(x.shape))\n",
    "y1 = x.squeeze()\n",
    "print(\"y1: {}\".format(y1.shape))\n",
    "y2 = np.squeeze(x)\n",
    "print(\"y2: {}\".format(y2.shape))\n",
    "y3 = np.squeeze(x, axis=0)\n",
    "print(\"y3: {}\".format(y3.shape))"
   ]
  },
  {
   "cell_type": "markdown",
   "metadata": {},
   "source": [
    "### 2. Matplotlib\n",
    "Matplotlib is a library for plotting various types of chart in Python for visualization, example types of chart are.  \n",
    "- Line chart: `plot(x, y, format=None)`  \n",
    "https://matplotlib.org/3.1.3/api/_as_gen/matplotlib.pyplot.plot.html#matplotlib.pyplot.plot"
   ]
  },
  {
   "cell_type": "code",
   "execution_count": null,
   "metadata": {},
   "outputs": [],
   "source": [
    "x = list(range(10))\n",
    "y1 = [2 * _x + 3 for _x in x]\n",
    "y2 = [-2 * _x + 15 for _x in x]\n",
    "\n",
    "plt.figure(figsize=(14, 5))             # Define figure size\n",
    "\n",
    "plt.subplot(1, 2, 1)                    # Define next plot is a first chart\n",
    "plt.plot(x, y1)                         # Plot first chart\n",
    "\n",
    "plt.subplot(1, 2, 2)                    # Define next plot is a second chart\n",
    "plt.plot(x, y1, \"g--\", x, y2, \"r--\")    # Plot second chart\n",
    "plt.title(\"Line plot2\")                 # Defind title for second charts\n",
    "plt.legend([\"y1\", \"y2\"])                # Defind legend for second chart\n",
    "plt.xlabel(\"X\")                         # Defind x-axis label for second chart\n",
    "plt.ylabel(\"Y\")                         # Defind y-axis label for second chart\n",
    "\n",
    "plt.show()                              # Show plotting"
   ]
  },
  {
   "cell_type": "markdown",
   "metadata": {},
   "source": [
    "- Image: `imshow(x)`  \n",
    "https://matplotlib.org/3.1.3/api/_as_gen/matplotlib.pyplot.imshow.html#matplotlib.pyplot.imshow"
   ]
  },
  {
   "cell_type": "code",
   "execution_count": null,
   "metadata": {},
   "outputs": [],
   "source": [
    "img = plt.imread(\"./pics/Python_Image_02.jpg\")    # Read image\n",
    "\n",
    "plt.figure(figsize=(14, 5))\n",
    "plt.imshow(img)                                   # Plot the image\n",
    "plt.show()"
   ]
  },
  {
   "cell_type": "markdown",
   "metadata": {},
   "source": [
    "- Histogram: `hist(x, bins=None)`  \n",
    "https://matplotlib.org/3.1.3/api/_as_gen/matplotlib.pyplot.hist.html#matplotlib.pyplot.hist"
   ]
  },
  {
   "cell_type": "code",
   "execution_count": null,
   "metadata": {},
   "outputs": [],
   "source": [
    "np.random.seed(0)\n",
    "x1 = np.random.normal(size=(10000, ))    # Random 10000 numbers with normal distribution\n",
    "x2 = np.random.uniform(size=(10000, ))   # Random 10000 numbers with uniform distribution\n",
    "\n",
    "plt.figure(figsize=(14, 5))\n",
    "\n",
    "plt.subplot(1, 2, 1)\n",
    "plt.hist(x1, bins=50)                    # Plot histogram\n",
    "plt.title(\"Random with normal distribution\")\n",
    "\n",
    "plt.subplot(1, 2, 2)\n",
    "plt.hist(x2, bins=50)                    # Plot histogram\n",
    "plt.title(\"Random with uniform distribution\")\n",
    "\n",
    "plt.show()"
   ]
  },
  {
   "cell_type": "markdown",
   "metadata": {},
   "source": [
    "- Bar chart: `bar(x, height)`  \n",
    "https://matplotlib.org/3.1.3/api/_as_gen/matplotlib.pyplot.bar.html#matplotlib.pyplot.bar"
   ]
  },
  {
   "cell_type": "code",
   "execution_count": null,
   "metadata": {},
   "outputs": [],
   "source": [
    "np.random.seed(0)\n",
    "x = list(range(10))\n",
    "height = np.random.randint(100, size=len(x))\n",
    "\n",
    "print(\"height: {}\".format(height))\n",
    "plt.figure(figsize=(7, 5))\n",
    "plt.bar(x, height)                              # Plot bar chart\n",
    "plt.show()"
   ]
  },
  {
   "cell_type": "markdown",
   "metadata": {},
   "source": [
    "- Pie chart: `pie(x, explode=None, labels=None)`  \n",
    "https://matplotlib.org/3.1.3/api/_as_gen/matplotlib.pyplot.pie.html#matplotlib.pyplot.pie"
   ]
  },
  {
   "cell_type": "code",
   "execution_count": null,
   "metadata": {},
   "outputs": [],
   "source": [
    "np.random.seed(0)\n",
    "x = np.random.randint(50, 100, size=4)\n",
    "labels = [\"Frogs\", \"Hogs\", \"Dogs\", \"Logs\"]\n",
    "explode = [0.0, 0.1, 0.0, 0.0]\n",
    "\n",
    "print(\"labels: {}\".format(labels))\n",
    "print(\"x: {}\".format(x))\n",
    "plt.figure(figsize=(7, 5))\n",
    "plt.pie(x, explode, labels, autopct='%.1f%%', shadow=True)    # Plot pie chart\n",
    "plt.show()"
   ]
  },
  {
   "cell_type": "markdown",
   "metadata": {},
   "source": [
    "- Scatter chart: `scatter(x, y, s=None, c=None, marker=None)`  \n",
    "https://matplotlib.org/3.1.3/api/_as_gen/matplotlib.pyplot.scatter.html#matplotlib.pyplot.scatter"
   ]
  },
  {
   "cell_type": "code",
   "execution_count": null,
   "metadata": {},
   "outputs": [],
   "source": [
    "np.random.seed(0)\n",
    "x = np.random.rand(100)\n",
    "y = np.random.rand(100)\n",
    "c = np.random.rand(100)\n",
    "s = np.random.rand(100) * 90\n",
    "\n",
    "plt.figure(figsize=(7, 5))\n",
    "plt.scatter(x, y, s=s, c=c, marker='^')    # Plot scatter chart\n",
    "plt.show()"
   ]
  },
  {
   "cell_type": "markdown",
   "metadata": {},
   "source": [
    "### 3. Pandas\n",
    "Pandas is a Python library for data analysis manipulation.  \n",
    "#### 3.1. Create DataFrame\n",
    "- `DataFrame(data=None, index=None, columns=None)`: Create DataFrame from dictionary or array.  \n",
    "https://pandas.pydata.org/pandas-docs/stable/reference/api/pandas.DataFrame.html"
   ]
  },
  {
   "cell_type": "code",
   "execution_count": null,
   "metadata": {},
   "outputs": [],
   "source": [
    "data = {\"Name\": [\"A\", \"B\", \"C\"], \"Age\": [20, 21, 22]}\n",
    "dataframe = pd.DataFrame(data)\n",
    "dataframe"
   ]
  },
  {
   "cell_type": "code",
   "execution_count": null,
   "metadata": {},
   "outputs": [],
   "source": [
    "data = [[\"A\", 20], [\"B\", 21], [\"C\", 22]]\n",
    "index = [\"a\", \"b\", \"c\"]\n",
    "columns = [\"Name\", \"Age\"]\n",
    "dataframe = pd.DataFrame(data, index=index, columns=columns)\n",
    "dataframe"
   ]
  },
  {
   "cell_type": "markdown",
   "metadata": {},
   "source": [
    "#### 3.2. Load data\n",
    "- `read_csv(filepath, header=0)`: Load data from CSV file.  \n",
    "https://pandas.pydata.org/pandas-docs/stable/reference/api/pandas.read_csv.html\n",
    "- `read_excel(filepath, sheetname=0, header=0)`: Load data from Excel file.  \n",
    "https://pandas.pydata.org/pandas-docs/stable/reference/api/pandas.read_excel.html\n",
    "- `read_pickle(filepath)`: Load data from Pickle file.  \n",
    "https://pandas.pydata.org/pandas-docs/stable/reference/api/pandas.read_pickle.html\n",
    "\n",
    "#### 3.3. Save data\n",
    "- `to_csv(filepath, header=True, index=True)`: Save data to CSV file.  \n",
    "https://pandas.pydata.org/pandas-docs/stable/reference/api/pandas.DataFrame.to_csv.html\n",
    "- `to_excel(filepath, sheet_name=\"Sheet1\", header=True, index=True)`: Save data to Excel file.  \n",
    "https://pandas.pydata.org/pandas-docs/stable/reference/api/pandas.DataFrame.to_excel.html\n",
    "- `to_pickle(filepath)`: Save data to Pickle file.  \n",
    "https://pandas.pydata.org/pandas-docs/stable/reference/api/pandas.DataFrame.to_pickle.html\n",
    "\n",
    "#### 3.4. DataFrame & Series\n",
    "DataFrame and Series are special data structure of Pandas which come with a lot of build-in methods (check this link https://pandas.pydata.org/pandas-docs/stable/reference/api/pandas.DataFrame.html) to help you manipulate data easier.\n",
    "\n",
    "<img src=\"pics/DataFrame.png\" width=\"750\" height=\"300\">"
   ]
  },
  {
   "cell_type": "code",
   "execution_count": null,
   "metadata": {},
   "outputs": [],
   "source": [
    "# read_csv(filepath, header=0)\n",
    "data = pd.read_csv(\"./datasets/heart.csv\")\n",
    "data"
   ]
  },
  {
   "cell_type": "markdown",
   "metadata": {},
   "source": [
    "#### 3.5. Visualize data\n",
    "- `DataFrame.head(n)`: Show first n row of DataFrame.  \n",
    "https://pandas.pydata.org/pandas-docs/stable/reference/api/pandas.DataFrame.head.html"
   ]
  },
  {
   "cell_type": "code",
   "execution_count": null,
   "metadata": {},
   "outputs": [],
   "source": [
    "data.head()"
   ]
  },
  {
   "cell_type": "markdown",
   "metadata": {},
   "source": [
    "- `DataFrame.tail(n)`: Show last n row of DataFrame.  \n",
    "https://pandas.pydata.org/pandas-docs/stable/reference/api/pandas.DataFrame.tail.html"
   ]
  },
  {
   "cell_type": "code",
   "execution_count": null,
   "metadata": {},
   "outputs": [],
   "source": [
    "data.tail()"
   ]
  },
  {
   "cell_type": "markdown",
   "metadata": {},
   "source": [
    "- `DataFrame.describe()`: Show statistics information of DataFrame.  \n",
    "https://pandas.pydata.org/pandas-docs/stable/reference/api/pandas.DataFrame.describe.html"
   ]
  },
  {
   "cell_type": "code",
   "execution_count": null,
   "metadata": {},
   "outputs": [],
   "source": [
    "data.describe()"
   ]
  },
  {
   "cell_type": "markdown",
   "metadata": {},
   "source": [
    "- `DataFrame.info()`: Show concise summary of DataFrame.  \n",
    "https://pandas.pydata.org/pandas-docs/stable/reference/api/pandas.DataFrame.info.html"
   ]
  },
  {
   "cell_type": "code",
   "execution_count": null,
   "metadata": {},
   "outputs": [],
   "source": [
    "data.info()"
   ]
  },
  {
   "cell_type": "markdown",
   "metadata": {},
   "source": [
    "- `DataFrame.hist(bins=None, figsize=None)`: Show histogram charts of DataFrame.  \n",
    "https://pandas.pydata.org/pandas-docs/stable/reference/api/pandas.DataFrame.hist.html"
   ]
  },
  {
   "cell_type": "code",
   "execution_count": null,
   "metadata": {},
   "outputs": [],
   "source": [
    "data.hist(figsize=(14, 15))\n",
    "plt.show()"
   ]
  },
  {
   "cell_type": "markdown",
   "metadata": {},
   "source": [
    "#### 3.6. Random\n",
    "- `DataFrame.sample(n=None, frac=None, replace=False, weights=None, random_state=None, axis=None)`: Randomly sample data from DataFrame.  \n",
    "https://pandas.pydata.org/pandas-docs/stable/reference/api/pandas.DataFrame.sample.html"
   ]
  },
  {
   "cell_type": "code",
   "execution_count": null,
   "metadata": {},
   "outputs": [],
   "source": [
    "sampled = data.sample(frac=.5, axis=0).reset_index(drop=True)\n",
    "sampled"
   ]
  },
  {
   "cell_type": "markdown",
   "metadata": {},
   "source": [
    "#### 3.7. Slicing data\n",
    "- `DataFrame.iloc`: Slice DataFrame base on index.  \n",
    "https://pandas.pydata.org/pandas-docs/stable/reference/api/pandas.DataFrame.iloc.html"
   ]
  },
  {
   "cell_type": "code",
   "execution_count": null,
   "metadata": {},
   "outputs": [],
   "source": [
    "data.iloc[1:3, 0:5]"
   ]
  },
  {
   "cell_type": "markdown",
   "metadata": {},
   "source": [
    "- `DataFrame.loc`: Slice DataFrame base in string.  \n",
    "https://pandas.pydata.org/pandas-docs/stable/reference/api/pandas.DataFrame.loc.html"
   ]
  },
  {
   "cell_type": "code",
   "execution_count": null,
   "metadata": {},
   "outputs": [],
   "source": [
    "data.loc[1:3, \"age\":\"cp\"]"
   ]
  },
  {
   "cell_type": "markdown",
   "metadata": {},
   "source": [
    "#### 3.8. Query\n",
    "- `DataFrame.query(expr)`: Get partial part of DataFrame by some condition.  \n",
    "https://pandas.pydata.org/pandas-docs/stable/reference/api/pandas.DataFrame.query.html"
   ]
  },
  {
   "cell_type": "code",
   "execution_count": null,
   "metadata": {},
   "outputs": [],
   "source": [
    "data.query(\"age < 40\")"
   ]
  },
  {
   "cell_type": "code",
   "execution_count": null,
   "metadata": {},
   "outputs": [],
   "source": [
    "data[data[\"age\"] < 40]"
   ]
  },
  {
   "cell_type": "markdown",
   "metadata": {},
   "source": [
    "#### 3.9. Copy DataFrame\n",
    "- `DataFrame.copy()`: Copy DataFrame.  \n",
    "https://pandas.pydata.org/pandas-docs/stable/reference/api/pandas.DataFrame.copy.html"
   ]
  },
  {
   "cell_type": "code",
   "execution_count": null,
   "metadata": {},
   "outputs": [],
   "source": [
    "new_data = data\n",
    "print(new_data is data)\n",
    "\n",
    "new_data = data.copy()\n",
    "print(new_data is data)"
   ]
  },
  {
   "cell_type": "markdown",
   "metadata": {},
   "source": [
    "#### 3.10. Remove data\n",
    "- `DataFrame.drop(index=None, columns=None, inplace=False)`: Remove data in DataFrame by index or column.  \n",
    "https://pandas.pydata.org/pandas-docs/stable/reference/api/pandas.DataFrame.drop.html"
   ]
  },
  {
   "cell_type": "code",
   "execution_count": null,
   "metadata": {},
   "outputs": [],
   "source": [
    "print(data.head())\n",
    "print(\"-\" * 100)\n",
    "\n",
    "print(\"Drop data by index:\")\n",
    "new_data = data.drop(index=2)\n",
    "print(new_data.head())\n",
    "print(\"-\" * 100)\n",
    "\n",
    "print(\"Drop data by column (single column):\")\n",
    "new_data = data.drop(columns=\"age\")\n",
    "print(new_data.head())\n",
    "print(\"-\" * 100)\n",
    "\n",
    "print(\"Drop data by columns (Multiple columns):\")\n",
    "new_data = data.drop(columns=[\"age\", \"sex\", \"cp\"])\n",
    "print(new_data.head())\n",
    "print(\"-\" * 100)"
   ]
  },
  {
   "cell_type": "markdown",
   "metadata": {},
   "source": [
    "### 4. Practice"
   ]
  },
  {
   "cell_type": "markdown",
   "metadata": {},
   "source": [
    "1. Create a signal generator class which has arguments as below **without using a for-loop**.\n",
    "```python\n",
    "class Generator:\n",
    "    def __init__(self, period, signal_type=\"sine\", amplitude=1, vertical_shift=0, phase_shift=0):\n",
    "        \"\"\"\n",
    "        period: Time take for 1 cycle\n",
    "        signal_type: Can be either \"sine\", \"cos\", \"half-sine\", \"half-cos\", \"sawtooth\"\n",
    "        amplitude: Height from center to peak of signal\n",
    "        vertical_shift: How far the signal shift vertically\n",
    "        phase_shift: How far the signal shift horizontally\n",
    "        \"\"\"\n",
    "        pass\n",
    "    \n",
    "    def __call__(self, start_t, stop_t):\n",
    "        \"\"\"\n",
    "        Generate signal from time start_t to stop_t\n",
    "        \"\"\"\n",
    "        pass\n",
    "```\n",
    "\n",
    "See example of signals generated with period = 100 and everything default.  \n",
    "**Sine:**\n",
    "\n",
    "<img src=\"pics/Sine.png\" width=\"600\" height=\"300\" style=\"float: center\">\n",
    "\n",
    "**Cos:**\n",
    "\n",
    "<img src=\"pics/Cos.png\" width=\"600\" height=\"300\" style=\"float: center\">\n",
    "\n",
    "**Half-Sine:**\n",
    "\n",
    "<img src=\"pics/Half-Sine.png\" width=\"600\" height=\"300\" style=\"float: center\">\n",
    "\n",
    "**Half-Cos:**\n",
    "\n",
    "<img src=\"pics/Half-Cos.png\" width=\"600\" height=\"300\" style=\"float: center\">\n",
    "\n",
    "**Sawtooth:**\n",
    "\n",
    "<img src=\"pics/Sawtooth.png\" width=\"600\" height=\"300\" style=\"float: center\">"
   ]
  },
  {
   "cell_type": "code",
   "execution_count": null,
   "metadata": {},
   "outputs": [],
   "source": [
    "import numpy as np\n",
    "import pandas as pd\n",
    "import matplotlib.pyplot as plt\n",
    "from utilities.SignalGenerator import SignalGenerator as ExampleGenerator"
   ]
  },
  {
   "cell_type": "code",
   "execution_count": null,
   "metadata": {},
   "outputs": [],
   "source": [
    "class Generator:\n",
    "    # Put your code here\n",
    "    pass"
   ]
  },
  {
   "cell_type": "code",
   "execution_count": null,
   "metadata": {},
   "outputs": [],
   "source": [
    "# Compare your code to SignalGenerator, they should produce the same output\n",
    "# Feel free to adjust below parameters\n",
    "period = 100\n",
    "signal_type = \"half-sine\"\n",
    "amplitude = 2.5\n",
    "vertical_shift = 1.5\n",
    "phase_shift = 50\n",
    "start_t = 0\n",
    "stop_t = 200\n",
    "\n",
    "example_generator = ExampleGenerator(period, signal_type, amplitude, vertical_shift, phase_shift)\n",
    "generator = ExampleGenerator(period, signal_type, amplitude, vertical_shift, phase_shift)\n",
    "\n",
    "y1 = example_generator(start_t, stop_t)\n",
    "y2 = generator(start_t, stop_t)\n",
    "\n",
    "plt.figure(figsize=(14, 10))\n",
    "\n",
    "plt.subplot(2, 1, 1)\n",
    "plt.plot(y1)\n",
    "plt.grid(True)\n",
    "plt.title(\"Target\")\n",
    "\n",
    "plt.subplot(2, 1, 2)\n",
    "plt.plot(y2)\n",
    "plt.grid(True)\n",
    "plt.title(\"Our\")\n",
    "\n",
    "plt.show()"
   ]
  }
 ],
 "metadata": {
  "kernelspec": {
   "display_name": "Python 3",
   "language": "python",
   "name": "python3"
  },
  "language_info": {
   "codemirror_mode": {
    "name": "ipython",
    "version": 3
   },
   "file_extension": ".py",
   "mimetype": "text/x-python",
   "name": "python",
   "nbconvert_exporter": "python",
   "pygments_lexer": "ipython3",
   "version": "3.7.4"
  }
 },
 "nbformat": 4,
 "nbformat_minor": 4
}
